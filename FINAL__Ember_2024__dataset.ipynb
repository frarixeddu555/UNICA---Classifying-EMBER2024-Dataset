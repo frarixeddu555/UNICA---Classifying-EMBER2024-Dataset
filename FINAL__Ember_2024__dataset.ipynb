{
  "cells": [
    {
      "cell_type": "markdown",
      "metadata": {
        "id": "FI5UIJ5grpRM"
      },
      "source": [
        "Installing libraries and cloning github repository"
      ]
    },
    {
      "cell_type": "code",
      "execution_count": null,
      "metadata": {
        "colab": {
          "base_uri": "https://localhost:8080/",
          "height": 1000,
          "referenced_widgets": [
            "ad630ed9f7084a82aa3167c2fd00fb64",
            "bf205642148f4aa0b03dc56de697cd0d",
            "0a9935c13efb4ad28beabcbb0c205763",
            "8cfc13b055cc46c4bda6946c4286b1d5",
            "93b8ce2572584accbed77888b5086a18",
            "b38fee8aa8894925aa29bac1a2392ca3",
            "27eb213041984f53af2c7ba2029daba3",
            "83acd4903fc3436bb1d4669a4dd4e0f4",
            "919b650667404484a4a0b7cd5ed92290",
            "3f87d88f190044958075e4c7d057c0ba",
            "f6d2a07a8c45433cbc3e7dde10be4443",
            "4210aa9147ac4370bf1285cf20fde844",
            "ea08a43498eb478ca5a3f73648d4cab7",
            "e9b6c4a917ce4360955ccf1a61aa8eca",
            "24f6721915244fffb7845c3c34238826",
            "f0e5349d3e354e51a13242462247765b",
            "43832b692cfc45b0889bb609d8c7db21",
            "ebd0cac48af148ea9fd0c3a0a857e010",
            "8033015fc2c045dfb5ceb2e5f5fa3c64",
            "245b3168d5834631aadd6a2eaaa5236d",
            "01a3416357e64ef691f23059e89f5504",
            "65c3bfcc78b4414b9ce6d194e0aeca11",
            "e0cbb9dfaa224711aca2b861ea3aeb19",
            "8eeb3fbc40914e3d9755f18cd1054920",
            "5c55a32b0463415a971f2dc61a29a1b7",
            "6794bf24bfa44b008eef07c35f5938d1",
            "f0cb4239c93b4616829d47591b3b9da2",
            "a9143be4e8484b4f91d3c394e82757e2",
            "3da3e9a1eaa64506aa7930a9b1f78ac2",
            "61c02da0404c49edbf70697a08386535",
            "29ae14550c694b70bbc686ae92d600ad",
            "3808895be89c4be69b9e3738522ffd57",
            "583df3283a01484eb5f7f5f9bdd62853"
          ]
        },
        "id": "qPC1cZcInL2u",
        "outputId": "9fb2f555-9680-4631-aa3e-ef14b9ea61c7"
      },
      "outputs": [
        {
          "output_type": "stream",
          "name": "stdout",
          "text": [
            "fatal: destination path 'EMBER2024' already exists and is not an empty directory.\n",
            "/content/EMBER2024\n",
            "Processing /content/EMBER2024\n",
            "  Installing build dependencies ... \u001b[?25l\u001b[?25hdone\n",
            "  Getting requirements to build wheel ... \u001b[?25l\u001b[?25hdone\n",
            "  Preparing metadata (pyproject.toml) ... \u001b[?25l\u001b[?25hdone\n",
            "Requirement already satisfied: lightgbm>=4.5.0 in /usr/local/lib/python3.12/dist-packages (from thrember==0.1.0) (4.6.0)\n",
            "Requirement already satisfied: pefile>=2024.8.26 in /usr/local/lib/python3.12/dist-packages (from thrember==0.1.0) (2024.8.26)\n",
            "Requirement already satisfied: polars>=1.8.2 in /usr/local/lib/python3.12/dist-packages (from thrember==0.1.0) (1.25.2)\n",
            "Requirement already satisfied: scikit-learn>=1.5.1 in /usr/local/lib/python3.12/dist-packages (from thrember==0.1.0) (1.6.1)\n",
            "Requirement already satisfied: tqdm>=4.66.5 in /usr/local/lib/python3.12/dist-packages (from thrember==0.1.0) (4.67.1)\n",
            "Requirement already satisfied: signify>=0.7.1 in /usr/local/lib/python3.12/dist-packages (from thrember==0.1.0) (0.8.1)\n",
            "Requirement already satisfied: huggingface_hub>=0.32.4 in /usr/local/lib/python3.12/dist-packages (from thrember==0.1.0) (0.34.4)\n",
            "Requirement already satisfied: matplotlib>=3.10.3 in /usr/local/lib/python3.12/dist-packages (from thrember==0.1.0) (3.10.6)\n",
            "Requirement already satisfied: filelock in /usr/local/lib/python3.12/dist-packages (from huggingface_hub>=0.32.4->thrember==0.1.0) (3.19.1)\n",
            "Requirement already satisfied: fsspec>=2023.5.0 in /usr/local/lib/python3.12/dist-packages (from huggingface_hub>=0.32.4->thrember==0.1.0) (2025.3.0)\n",
            "Requirement already satisfied: packaging>=20.9 in /usr/local/lib/python3.12/dist-packages (from huggingface_hub>=0.32.4->thrember==0.1.0) (25.0)\n",
            "Requirement already satisfied: pyyaml>=5.1 in /usr/local/lib/python3.12/dist-packages (from huggingface_hub>=0.32.4->thrember==0.1.0) (6.0.2)\n",
            "Requirement already satisfied: requests in /usr/local/lib/python3.12/dist-packages (from huggingface_hub>=0.32.4->thrember==0.1.0) (2.32.4)\n",
            "Requirement already satisfied: typing-extensions>=3.7.4.3 in /usr/local/lib/python3.12/dist-packages (from huggingface_hub>=0.32.4->thrember==0.1.0) (4.15.0)\n",
            "Requirement already satisfied: hf-xet<2.0.0,>=1.1.3 in /usr/local/lib/python3.12/dist-packages (from huggingface_hub>=0.32.4->thrember==0.1.0) (1.1.8)\n",
            "Requirement already satisfied: numpy>=1.17.0 in /usr/local/lib/python3.12/dist-packages (from lightgbm>=4.5.0->thrember==0.1.0) (2.0.2)\n",
            "Requirement already satisfied: scipy in /usr/local/lib/python3.12/dist-packages (from lightgbm>=4.5.0->thrember==0.1.0) (1.16.1)\n",
            "Requirement already satisfied: contourpy>=1.0.1 in /usr/local/lib/python3.12/dist-packages (from matplotlib>=3.10.3->thrember==0.1.0) (1.3.3)\n",
            "Requirement already satisfied: cycler>=0.10 in /usr/local/lib/python3.12/dist-packages (from matplotlib>=3.10.3->thrember==0.1.0) (0.12.1)\n",
            "Requirement already satisfied: fonttools>=4.22.0 in /usr/local/lib/python3.12/dist-packages (from matplotlib>=3.10.3->thrember==0.1.0) (4.59.1)\n",
            "Requirement already satisfied: kiwisolver>=1.3.1 in /usr/local/lib/python3.12/dist-packages (from matplotlib>=3.10.3->thrember==0.1.0) (1.4.9)\n",
            "Requirement already satisfied: pillow>=8 in /usr/local/lib/python3.12/dist-packages (from matplotlib>=3.10.3->thrember==0.1.0) (11.3.0)\n",
            "Requirement already satisfied: pyparsing>=2.3.1 in /usr/local/lib/python3.12/dist-packages (from matplotlib>=3.10.3->thrember==0.1.0) (3.2.3)\n",
            "Requirement already satisfied: python-dateutil>=2.7 in /usr/local/lib/python3.12/dist-packages (from matplotlib>=3.10.3->thrember==0.1.0) (2.9.0.post0)\n",
            "Requirement already satisfied: joblib>=1.2.0 in /usr/local/lib/python3.12/dist-packages (from scikit-learn>=1.5.1->thrember==0.1.0) (1.5.1)\n",
            "Requirement already satisfied: threadpoolctl>=3.1.0 in /usr/local/lib/python3.12/dist-packages (from scikit-learn>=1.5.1->thrember==0.1.0) (3.6.0)\n",
            "Requirement already satisfied: certvalidator>=0.11 in /usr/local/lib/python3.12/dist-packages (from signify>=0.7.1->thrember==0.1.0) (0.11.1)\n",
            "Requirement already satisfied: asn1crypto<2,>=1.3 in /usr/local/lib/python3.12/dist-packages (from signify>=0.7.1->thrember==0.1.0) (1.5.1)\n",
            "Requirement already satisfied: oscrypto<2,>=1.1 in /usr/local/lib/python3.12/dist-packages (from signify>=0.7.1->thrember==0.1.0) (1.3.0)\n",
            "Requirement already satisfied: mscerts in /usr/local/lib/python3.12/dist-packages (from signify>=0.7.1->thrember==0.1.0) (2025.8.29)\n",
            "Requirement already satisfied: six>=1.5 in /usr/local/lib/python3.12/dist-packages (from python-dateutil>=2.7->matplotlib>=3.10.3->thrember==0.1.0) (1.17.0)\n",
            "Requirement already satisfied: charset_normalizer<4,>=2 in /usr/local/lib/python3.12/dist-packages (from requests->huggingface_hub>=0.32.4->thrember==0.1.0) (3.4.3)\n",
            "Requirement already satisfied: idna<4,>=2.5 in /usr/local/lib/python3.12/dist-packages (from requests->huggingface_hub>=0.32.4->thrember==0.1.0) (3.10)\n",
            "Requirement already satisfied: urllib3<3,>=1.21.1 in /usr/local/lib/python3.12/dist-packages (from requests->huggingface_hub>=0.32.4->thrember==0.1.0) (2.5.0)\n",
            "Requirement already satisfied: certifi>=2017.4.17 in /usr/local/lib/python3.12/dist-packages (from requests->huggingface_hub>=0.32.4->thrember==0.1.0) (2025.8.3)\n",
            "Building wheels for collected packages: thrember\n",
            "  Building wheel for thrember (pyproject.toml) ... \u001b[?25l\u001b[?25hdone\n",
            "  Created wheel for thrember: filename=thrember-0.1.0-py3-none-any.whl size=26781 sha256=c15cd1c00ad4b34c2cd93fe38cf6f6281b39505f53ce84f38b18719bb4d8d1b8\n",
            "  Stored in directory: /tmp/pip-ephem-wheel-cache-6vtmful0/wheels/21/ee/ca/911b4783aa75e217485919f249cb705350c3244fd7894fbb21\n",
            "Successfully built thrember\n",
            "Installing collected packages: thrember\n",
            "  Attempting uninstall: thrember\n",
            "    Found existing installation: thrember 0.1.0\n",
            "    Uninstalling thrember-0.1.0:\n",
            "      Successfully uninstalled thrember-0.1.0\n",
            "Successfully installed thrember-0.1.0\n",
            "Requirement already satisfied: scikit-learn in /usr/local/lib/python3.12/dist-packages (1.6.1)\n",
            "Requirement already satisfied: joblib in /usr/local/lib/python3.12/dist-packages (1.5.1)\n",
            "Requirement already satisfied: numpy>=1.19.5 in /usr/local/lib/python3.12/dist-packages (from scikit-learn) (2.0.2)\n",
            "Requirement already satisfied: scipy>=1.6.0 in /usr/local/lib/python3.12/dist-packages (from scikit-learn) (1.16.1)\n",
            "Requirement already satisfied: threadpoolctl>=3.1.0 in /usr/local/lib/python3.12/dist-packages (from scikit-learn) (3.6.0)\n",
            "Downloading train...\n"
          ]
        },
        {
          "output_type": "stream",
          "name": "stderr",
          "text": [
            "/usr/local/lib/python3.12/dist-packages/huggingface_hub/utils/_auth.py:94: UserWarning: \n",
            "The secret `HF_TOKEN` does not exist in your Colab secrets.\n",
            "To authenticate with the Hugging Face Hub, create a token in your settings tab (https://huggingface.co/settings/tokens), set it as secret in your Google Colab and restart your session.\n",
            "You will be able to reuse this secret in all of your notebooks.\n",
            "Please note that authentication is recommended but still optional to access public models or datasets.\n",
            "  warnings.warn(\n"
          ]
        },
        {
          "output_type": "display_data",
          "data": {
            "text/plain": [
              "PDF_train.zip:   0%|          | 0.00/123M [00:00<?, ?B/s]"
            ],
            "application/vnd.jupyter.widget-view+json": {
              "version_major": 2,
              "version_minor": 0,
              "model_id": "ad630ed9f7084a82aa3167c2fd00fb64"
            }
          },
          "metadata": {}
        },
        {
          "output_type": "stream",
          "name": "stdout",
          "text": [
            "Unzipping...\n",
            "Downloading test...\n"
          ]
        },
        {
          "output_type": "display_data",
          "data": {
            "text/plain": [
              "PDF_test.zip:   0%|          | 0.00/28.8M [00:00<?, ?B/s]"
            ],
            "application/vnd.jupyter.widget-view+json": {
              "version_major": 2,
              "version_minor": 0,
              "model_id": "4210aa9147ac4370bf1285cf20fde844"
            }
          },
          "metadata": {}
        },
        {
          "output_type": "stream",
          "name": "stdout",
          "text": [
            "Unzipping...\n",
            "Downloading challenge...\n"
          ]
        },
        {
          "output_type": "display_data",
          "data": {
            "text/plain": [
              "challenge.zip:   0%|          | 0.00/32.1M [00:00<?, ?B/s]"
            ],
            "application/vnd.jupyter.widget-view+json": {
              "version_major": 2,
              "version_minor": 0,
              "model_id": "e0cbb9dfaa224711aca2b861ea3aeb19"
            }
          },
          "metadata": {}
        },
        {
          "output_type": "stream",
          "name": "stdout",
          "text": [
            "Preparing to vectorize raw features\n",
            "Vectorizing training set\n"
          ]
        },
        {
          "output_type": "stream",
          "name": "stderr",
          "text": [
            "100%|██████████| 104000/104000 [02:21<00:00, 737.47it/s]\n"
          ]
        },
        {
          "output_type": "stream",
          "name": "stdout",
          "text": [
            "Vectorizing test set\n"
          ]
        },
        {
          "output_type": "stream",
          "name": "stderr",
          "text": [
            "100%|██████████| 24000/24000 [00:32<00:00, 744.06it/s]\n"
          ]
        },
        {
          "output_type": "stream",
          "name": "stdout",
          "text": [
            "Vectorizing challenge set\n"
          ]
        },
        {
          "output_type": "stream",
          "name": "stderr",
          "text": [
            "100%|██████████| 6315/6315 [00:16<00:00, 378.64it/s]\n"
          ]
        }
      ],
      "source": [
        "!git clone https://github.com/FutureComputing4AI/EMBER2024.git\n",
        "%cd EMBER2024\n",
        "!pip install .\n",
        "!pip install scikit-learn joblib\n",
        "\n",
        "import os\n",
        "\n",
        "#Creation of all necessary folders\n",
        "data_dir = \"/content/EMBER2024/data\"\n",
        "os.makedirs(data_dir, exist_ok=True)\n",
        "\n",
        "import thrember\n",
        "\n",
        "#Downloading training/test/challenge set for PDFs\n",
        "print(\"Downloading train...\")\n",
        "thrember.download_dataset(data_dir, file_type=\"PDF\", split=\"train\")\n",
        "\n",
        "print(\"Downloading test...\")\n",
        "thrember.download_dataset(data_dir, file_type=\"PDF\", split=\"test\")\n",
        "\n",
        "#Challenge set downloaded but not used (it contains all file types)\n",
        "print(\"Downloading challenge...\")\n",
        "thrember.download_dataset(data_dir, split=\"challenge\")\n",
        "\n",
        "thrember.create_vectorized_features(data_dir)\n",
        "\n",
        "X_train, y_train = thrember.read_vectorized_features(data_dir, subset=\"train\")\n",
        "X_test, y_test = thrember.read_vectorized_features(data_dir, subset=\"test\")\n",
        "X_challenge, y_challenge = thrember.read_vectorized_features(data_dir, subset=\"challenge\")\n"
      ]
    },
    {
      "cell_type": "markdown",
      "metadata": {
        "id": "u8hM75aAxuz4"
      },
      "source": [
        "Scaling data"
      ]
    },
    {
      "cell_type": "code",
      "execution_count": null,
      "metadata": {
        "id": "lDhDvlD3MfnG"
      },
      "outputs": [],
      "source": [
        "from sklearn.preprocessing import MinMaxScaler\n",
        "\n",
        "scaler = MinMaxScaler()\n",
        "\n",
        "scaler.fit(X_train)\n",
        "\n",
        "scaled_X_train = scaler.transform(X_train)\n",
        "scaled_X_test = scaler.transform(X_test)"
      ]
    },
    {
      "cell_type": "markdown",
      "source": [
        "Discarding duplicates"
      ],
      "metadata": {
        "id": "oHaU1Pd_eFhx"
      }
    },
    {
      "cell_type": "code",
      "execution_count": null,
      "metadata": {
        "colab": {
          "base_uri": "https://localhost:8080/"
        },
        "id": "j7s7YPborBQM",
        "outputId": "03f47f68-c34f-440c-cea2-16bea4099787"
      },
      "outputs": [
        {
          "output_type": "stream",
          "name": "stdout",
          "text": [
            "Dimensioni di unique_X_train: (52000, 2568)\n",
            "Dimensioni di unique_y_train: (52000,)\n",
            "Dimensioni di unique_X_test: (12000, 2568)\n",
            "Dimensioni di unique_y_test: (12000,)\n",
            "Train samples totali: 52000\n",
            "Train malicious: 26000\n",
            "Train benign: 26000\n",
            "Test samples totali: 12000\n",
            "Test malicious: 6000\n",
            "Test benign: 6000\n",
            "Challenge samples totali: 6315\n",
            "Challenge malicious: 6315\n",
            "Challenge benign: 0\n"
          ]
        }
      ],
      "source": [
        "import numpy as np\n",
        "\n",
        "# Discarding duplicates\n",
        "# 'unique_X_test' will contain unique rows\n",
        "# 'unique_test_indices' will contain indices of unique rows\n",
        "unique_X_train, unique_train_indices = np.unique(scaled_X_train, axis=0, return_index=True)\n",
        "unique_X_test, unique_test_indices = np.unique(scaled_X_test, axis=0, return_index=True)\n",
        "\n",
        "# Indices are used for extracting the corresponding labels from y_test\n",
        "unique_y_train = y_train[unique_train_indices]\n",
        "unique_y_test = y_test[unique_test_indices]\n",
        "\n",
        "# Size check\n",
        "print(f\"Dimensioni di unique_X_train: {unique_X_train.shape}\")\n",
        "print(f\"Dimensioni di unique_y_train: {unique_y_train.shape}\")\n",
        "\n",
        "print(f\"Dimensioni di unique_X_test: {unique_X_test.shape}\")\n",
        "print(f\"Dimensioni di unique_y_test: {unique_y_test.shape}\")\n",
        "\n",
        "print(f\"Train samples totali: {len(unique_y_train)}\")\n",
        "print(f\"Train malicious: {sum(unique_y_train == 1)}\")\n",
        "print(f\"Train benign: {sum(unique_y_train == 0)}\")\n",
        "\n",
        "print(f\"Test samples totali: {len(unique_y_test)}\")\n",
        "print(f\"Test malicious: {sum(unique_y_test == 1)}\")\n",
        "print(f\"Test benign: {sum(unique_y_test == 0)}\")\n",
        "\n",
        "print(f\"Challenge samples totali: {len(y_challenge)}\")\n",
        "print(f\"Challenge malicious: {sum(y_challenge == 1)}\")\n",
        "print(f\"Challenge benign: {sum(y_challenge == 0)}\")"
      ]
    },
    {
      "cell_type": "markdown",
      "metadata": {
        "id": "-z0kVFIL7WaZ"
      },
      "source": [
        "Model LightGBM (with parameters proposed by the authors of the paper)"
      ]
    },
    {
      "cell_type": "code",
      "execution_count": null,
      "metadata": {
        "colab": {
          "base_uri": "https://localhost:8080/"
        },
        "id": "54JIPxV7W5AF",
        "outputId": "ff641be2-84fa-4b8b-9175-5c7ac98f1c15",
        "collapsed": true
      },
      "outputs": [
        {
          "output_type": "stream",
          "name": "stdout",
          "text": [
            "Training LightGBM...\n",
            "[LightGBM] [Info] Number of positive: 26000, number of negative: 26000\n",
            "[LightGBM] [Info] Auto-choosing col-wise multi-threading, the overhead of testing was 0.831360 seconds.\n",
            "You can set `force_col_wise=true` to remove the overhead.\n",
            "[LightGBM] [Info] Total Bins 159800\n",
            "[LightGBM] [Info] Number of data points in the train set: 52000, number of used features: 664\n",
            "[LightGBM] [Info] [binary:BoostFromScore]: pavg=0.500000 -> initscore=0.000000\n",
            "[LightGBM] [Warning] No further splits with positive gain, best gain: -inf\n",
            "[LightGBM] [Warning] No further splits with positive gain, best gain: -inf\n",
            "[LightGBM] [Warning] No further splits with positive gain, best gain: -inf\n",
            "[LightGBM] [Warning] No further splits with positive gain, best gain: -inf\n",
            "[LightGBM] [Warning] No further splits with positive gain, best gain: -inf\n",
            "[LightGBM] [Warning] No further splits with positive gain, best gain: -inf\n",
            "[LightGBM] [Warning] No further splits with positive gain, best gain: -inf\n",
            "[LightGBM] [Warning] No further splits with positive gain, best gain: -inf\n",
            "[LightGBM] [Warning] No further splits with positive gain, best gain: -inf\n",
            "[LightGBM] [Warning] No further splits with positive gain, best gain: -inf\n",
            "[LightGBM] [Warning] No further splits with positive gain, best gain: -inf\n",
            "[LightGBM] [Warning] No further splits with positive gain, best gain: -inf\n",
            "[LightGBM] [Warning] No further splits with positive gain, best gain: -inf\n",
            "[LightGBM] [Warning] No further splits with positive gain, best gain: -inf\n",
            "[LightGBM] [Warning] No further splits with positive gain, best gain: -inf\n",
            "[LightGBM] [Warning] No further splits with positive gain, best gain: -inf\n",
            "[LightGBM] [Warning] No further splits with positive gain, best gain: -inf\n",
            "[LightGBM] [Warning] No further splits with positive gain, best gain: -inf\n",
            "[LightGBM] [Warning] No further splits with positive gain, best gain: -inf\n",
            "[LightGBM] [Warning] No further splits with positive gain, best gain: -inf\n",
            "[LightGBM] [Warning] No further splits with positive gain, best gain: -inf\n",
            "[LightGBM] [Warning] No further splits with positive gain, best gain: -inf\n",
            "[LightGBM] [Warning] No further splits with positive gain, best gain: -inf\n",
            "[LightGBM] [Warning] No further splits with positive gain, best gain: -inf\n",
            "[LightGBM] [Warning] No further splits with positive gain, best gain: -inf\n",
            "[LightGBM] [Warning] No further splits with positive gain, best gain: -inf\n",
            "[LightGBM] [Warning] No further splits with positive gain, best gain: -inf\n",
            "[LightGBM] [Warning] No further splits with positive gain, best gain: -inf\n",
            "[LightGBM] [Warning] No further splits with positive gain, best gain: -inf\n",
            "[LightGBM] [Warning] No further splits with positive gain, best gain: -inf\n",
            "[LightGBM] [Warning] No further splits with positive gain, best gain: -inf\n",
            "[LightGBM] [Warning] No further splits with positive gain, best gain: -inf\n",
            "[LightGBM] [Warning] No further splits with positive gain, best gain: -inf\n",
            "[LightGBM] [Warning] No further splits with positive gain, best gain: -inf\n",
            "[LightGBM] [Warning] No further splits with positive gain, best gain: -inf\n",
            "[LightGBM] [Warning] No further splits with positive gain, best gain: -inf\n",
            "[LightGBM] [Warning] No further splits with positive gain, best gain: -inf\n",
            "[LightGBM] [Warning] No further splits with positive gain, best gain: -inf\n",
            "[LightGBM] [Warning] No further splits with positive gain, best gain: -inf\n",
            "[LightGBM] [Warning] No further splits with positive gain, best gain: -inf\n",
            "[LightGBM] [Warning] No further splits with positive gain, best gain: -inf\n",
            "[LightGBM] [Warning] No further splits with positive gain, best gain: -inf\n",
            "[LightGBM] [Warning] No further splits with positive gain, best gain: -inf\n",
            "[LightGBM] [Warning] No further splits with positive gain, best gain: -inf\n",
            "[LightGBM] [Warning] No further splits with positive gain, best gain: -inf\n",
            "[LightGBM] [Warning] No further splits with positive gain, best gain: -inf\n",
            "[LightGBM] [Warning] No further splits with positive gain, best gain: -inf\n",
            "[LightGBM] [Warning] No further splits with positive gain, best gain: -inf\n",
            "[LightGBM] [Warning] No further splits with positive gain, best gain: -inf\n",
            "[LightGBM] [Warning] No further splits with positive gain, best gain: -inf\n",
            "[LightGBM] [Warning] No further splits with positive gain, best gain: -inf\n",
            "[LightGBM] [Warning] No further splits with positive gain, best gain: -inf\n",
            "[LightGBM] [Warning] No further splits with positive gain, best gain: -inf\n",
            "[LightGBM] [Warning] No further splits with positive gain, best gain: -inf\n",
            "[LightGBM] [Warning] No further splits with positive gain, best gain: -inf\n",
            "[LightGBM] [Warning] No further splits with positive gain, best gain: -inf\n",
            "[LightGBM] [Warning] No further splits with positive gain, best gain: -inf\n",
            "[LightGBM] [Warning] No further splits with positive gain, best gain: -inf\n",
            "[LightGBM] [Warning] No further splits with positive gain, best gain: -inf\n",
            "[LightGBM] [Warning] No further splits with positive gain, best gain: -inf\n",
            "[LightGBM] [Warning] No further splits with positive gain, best gain: -inf\n",
            "[LightGBM] [Warning] No further splits with positive gain, best gain: -inf\n",
            "[LightGBM] [Warning] No further splits with positive gain, best gain: -inf\n",
            "[LightGBM] [Warning] No further splits with positive gain, best gain: -inf\n",
            "[LightGBM] [Warning] No further splits with positive gain, best gain: -inf\n",
            "[LightGBM] [Warning] No further splits with positive gain, best gain: -inf\n",
            "[LightGBM] [Warning] No further splits with positive gain, best gain: -inf\n",
            "[LightGBM] [Warning] No further splits with positive gain, best gain: -inf\n",
            "[LightGBM] [Warning] No further splits with positive gain, best gain: -inf\n",
            "[LightGBM] [Warning] No further splits with positive gain, best gain: -inf\n",
            "[LightGBM] [Warning] No further splits with positive gain, best gain: -inf\n",
            "[LightGBM] [Warning] No further splits with positive gain, best gain: -inf\n",
            "[LightGBM] [Warning] No further splits with positive gain, best gain: -inf\n",
            "[LightGBM] [Warning] No further splits with positive gain, best gain: -inf\n",
            "[LightGBM] [Warning] No further splits with positive gain, best gain: -inf\n"
          ]
        },
        {
          "output_type": "stream",
          "name": "stderr",
          "text": [
            "/usr/local/lib/python3.12/dist-packages/sklearn/utils/validation.py:2739: UserWarning: X does not have valid feature names, but LGBMClassifier was fitted with feature names\n",
            "  warnings.warn(\n",
            "/usr/local/lib/python3.12/dist-packages/sklearn/utils/validation.py:2739: UserWarning: X does not have valid feature names, but LGBMClassifier was fitted with feature names\n",
            "  warnings.warn(\n"
          ]
        },
        {
          "output_type": "stream",
          "name": "stdout",
          "text": [
            "Metriche...\n",
            "ROC-AUC:  0.9911\n",
            "PR-AUC:   0.9932\n",
            "Accuracy: 0.9590\n"
          ]
        }
      ],
      "source": [
        "import lightgbm as lgb\n",
        "from sklearn.metrics import roc_auc_score, average_precision_score, f1_score\n",
        "\n",
        "# Model definition\n",
        "lgb_model = lgb.LGBMClassifier(\n",
        "    n_estimators=500,\n",
        "    num_leaves=64,\n",
        "    min_child_samples=100\n",
        ")\n",
        "\n",
        "print(\"Training LightGBM...\")\n",
        "lgb_model.fit(unique_X_train, unique_y_train)\n",
        "\n",
        "# Prediction on the set without duplicates\n",
        "lgb_proba = lgb_model.predict_proba(unique_X_test)[:, 1]\n",
        "lgb_pred  = lgb_model.predict(unique_X_test)\n",
        "\n",
        "print(\"Metrics...\")\n",
        "print(f\"ROC-AUC:  {roc_auc_score(unique_y_test, lgb_proba):.4f}\")\n",
        "print(f\"PR-AUC:   {average_precision_score(unique_y_test, lgb_proba):.4f}\")\n",
        "print(f\"Accuracy: {((lgb_pred == unique_y_test).mean()):.4f}\")\n"
      ]
    },
    {
      "cell_type": "markdown",
      "source": [
        "RandomForest Classifier: finding best hyperparameters with GridSearchCV"
      ],
      "metadata": {
        "id": "AnjdScJDe_fU"
      }
    },
    {
      "cell_type": "code",
      "execution_count": null,
      "metadata": {
        "id": "jLio_giitFBA",
        "colab": {
          "base_uri": "https://localhost:8080/"
        },
        "outputId": "37e71665-53e3-4698-f057-6ea2388d1ad8"
      },
      "outputs": [
        {
          "metadata": {
            "tags": null
          },
          "name": "stdout",
          "output_type": "stream",
          "text": [
            "Training\n"
          ]
        }
      ],
      "source": [
        "from sklearn.model_selection import GridSearchCV\n",
        "from sklearn.ensemble import RandomForestClassifier\n",
        "\n",
        "rf = RandomForestClassifier(random_state=42, n_jobs=-1)\n",
        "\n",
        "param_grid = {\n",
        "    \"n_estimators\": [100, 200],\n",
        "    \"max_depth\": [10, 20, None],\n",
        "    \"max_features\": [\"sqrt\", \"log2\"],\n",
        "    \"min_samples_split\": [2, 5],\n",
        "}\n",
        "clf = GridSearchCV(\n",
        "    estimator=rf,\n",
        "    param_grid=param_grid,\n",
        "    cv=3,\n",
        "    scoring=\"accuracy\",\n",
        "    n_jobs=-1\n",
        ")\n",
        "\n",
        "print(\"Training...\")\n",
        "clf.fit(unique_X_train, unique_y_train)\n",
        "\n",
        "print(\"Predicting...\")\n",
        "ypred = clf.predict(unique_X_test)\n",
        "\n",
        "# Results\n",
        "print(\"- Best parameters set found on development set:\", clf.best_params_)\n",
        "print(\"- Grid scores on development set:\")\n",
        "\n",
        "means = clf.cv_results_['mean_test_score']\n",
        "stds = clf.cv_results_['std_test_score']\n",
        "\n",
        "for mean, std, params in zip(means, stds, clf.cv_results_['params']):\n",
        "    print(\"        %0.3f (+/-%0.03f) for %r\" % (mean, std * 2, params))\n"
      ]
    },
    {
      "cell_type": "markdown",
      "source": [
        "RF model definition with the best hyperparameters given by GridSearchCV"
      ],
      "metadata": {
        "id": "507xw4tBfVJr"
      }
    },
    {
      "cell_type": "code",
      "source": [
        "import matplotlib.pyplot as plt\n",
        "from sklearn.metrics import roc_curve, precision_recall_curve, auc\n",
        "from sklearn.metrics import roc_auc_score, average_precision_score, f1_score\n",
        "\n",
        "# Random Forest already trained\n",
        "rf_model = RandomForestClassifier(random_state=42,\n",
        "                               n_jobs=-1,\n",
        "                               n_estimators= 200,\n",
        "                               max_depth= 20,\n",
        "                               max_features= \"log2\",\n",
        "                               min_samples_split= 2)\n",
        "\n",
        "rf_model.fit(unique_X_train, unique_y_train)\n",
        "\n",
        "rf_proba = rf_model.predict_proba(unique_X_test)[:,1]\n",
        "rf_pred  = rf_model.predict(unique_X_test)\n",
        "\n",
        "# RF metrics\n",
        "print(\"Metrics...\")\n",
        "print(f\"ROC-AUC:  {roc_auc_score(unique_y_test, rf_proba):.4f}\")\n",
        "print(f\"PR-AUC:   {average_precision_score(unique_y_test, rf_proba):.4f}\")\n",
        "print(f\"Accuracy: {((rf_pred == unique_y_test).mean()):.4f}\")\n",
        "\n",
        "\n",
        "# ROC Curve for RF model\n",
        "fpr, tpr, _ = roc_curve(unique_y_test, rf_proba)\n",
        "roc_auc = auc(fpr, tpr)\n",
        "\n",
        "plt.figure(figsize=(6, 6))\n",
        "plt.plot(fpr, tpr, label=f\"ROC curve (AUC = {roc_auc:.3f})\")\n",
        "plt.plot([0, 1], [0, 1], \"k--\")  # baseline\n",
        "plt.xlabel(\"False Positive Rate\")\n",
        "plt.ylabel(\"True Positive Rate\")\n",
        "plt.title(\"ROC Curve\")\n",
        "plt.legend(loc=\"lower right\")\n",
        "plt.grid(True)\n",
        "plt.show()\n",
        "\n",
        "# Precision-Recall Curve for RF model\n",
        "precision, recall, _ = precision_recall_curve(unique_y_test, rf_proba)\n",
        "pr_auc = auc(recall, precision)\n",
        "\n",
        "plt.figure(figsize=(6, 6))\n",
        "plt.plot(recall, precision, label=f\"PR curve (AUC = {pr_auc:.3f})\")\n",
        "plt.xlabel(\"Recall\")\n",
        "plt.ylabel(\"Precision\")\n",
        "plt.title(\"Precision-Recall Curve\")\n",
        "plt.legend(loc=\"lower left\")\n",
        "plt.grid(True)\n",
        "plt.show()\n",
        "\n"
      ],
      "metadata": {
        "colab": {
          "base_uri": "https://localhost:8080/",
          "height": 1000
        },
        "id": "SD7MivMW3O9t",
        "outputId": "8f0ce8fa-a798-4483-d826-3d7884dff6d1",
        "collapsed": true
      },
      "execution_count": null,
      "outputs": [
        {
          "output_type": "stream",
          "name": "stdout",
          "text": [
            "Metrics...\n",
            "ROC-AUC:  0.9854\n",
            "PR-AUC:   0.9885\n",
            "Accuracy: 0.9427\n"
          ]
        },
        {
          "output_type": "display_data",
          "data": {
            "text/plain": [
              "<Figure size 600x600 with 1 Axes>"
            ],
            "image/png": "[encoded data removed]"
          },
          "metadata": {}
        },
        {
          "output_type": "display_data",
          "data": {
            "text/plain": [
              "<Figure size 600x600 with 1 Axes>"
            ],
            "image/png": "[encoded data removed]"
          },
          "metadata": {}
        }
      ]
    },
    {
      "cell_type": "markdown",
      "source": [
        "LightGBM and RF comparison"
      ],
      "metadata": {
        "id": "mJM0DxMCfrAt"
      }
    },
    {
      "cell_type": "code",
      "source": [
        "# ROC: RF vs LGB curves\n",
        "rf_fpr, rf_tpr, _ = roc_curve(unique_y_test, rf_proba)\n",
        "lgb_fpr, lgb_tpr, _ = roc_curve(unique_y_test, lgb_proba)\n",
        "\n",
        "rf_roc_auc = auc(rf_fpr, rf_tpr)\n",
        "lgb_roc_auc = auc(lgb_fpr, lgb_tpr)\n",
        "\n",
        "# Precsion-Recall: RF vs LGB curves\n",
        "rf_prec, rf_rec, _ = precision_recall_curve(unique_y_test, rf_proba)\n",
        "lgb_prec, lgb_rec, _ = precision_recall_curve(unique_y_test, lgb_proba)\n",
        "\n",
        "rf_pr_auc = auc(rf_rec, rf_prec)\n",
        "lgb_pr_auc = auc(lgb_rec, lgb_prec)\n",
        "\n",
        "# Plot\n",
        "fig, axes = plt.subplots(1, 2, figsize=(12, 5))\n",
        "\n",
        "# ROC\n",
        "axes[0].plot(rf_fpr, rf_tpr, label=f\"Random Forest (AUC = {rf_roc_auc:.3f})\")\n",
        "axes[0].plot(lgb_fpr, lgb_tpr, label=f\"LightGBM (AUC = {lgb_roc_auc:.3f})\")\n",
        "axes[0].plot([0, 1], [0, 1], \"k--\")\n",
        "axes[0].set_xlabel(\"False Positive Rate\")\n",
        "axes[0].set_ylabel(\"True Positive Rate\")\n",
        "axes[0].set_title(\"ROC Curve\")\n",
        "axes[0].legend(loc=\"lower right\")\n",
        "axes[0].grid(True)\n",
        "\n",
        "# Precision-Recall\n",
        "axes[1].plot(rf_rec, rf_prec, label=f\"Random Forest (AUC = {rf_pr_auc:.3f})\")\n",
        "axes[1].plot(lgb_rec, lgb_prec, label=f\"LightGBM (AUC = {lgb_pr_auc:.3f})\")\n",
        "axes[1].set_xlabel(\"Recall\")\n",
        "axes[1].set_ylabel(\"Precision\")\n",
        "axes[1].set_title(\"Precision-Recall Curve\")\n",
        "axes[1].legend(loc=\"lower left\")\n",
        "axes[1].grid(True)\n",
        "\n",
        "plt.tight_layout()\n",
        "plt.show()\n"
      ],
      "metadata": {
        "colab": {
          "base_uri": "https://localhost:8080/",
          "height": 507
        },
        "id": "j781_kBZh_lf",
        "outputId": "4800fe72-d2ca-4fb3-d52f-96196933c133"
      },
      "execution_count": null,
      "outputs": [
        {
          "output_type": "display_data",
          "data": {
            "text/plain": [
              "<Figure size 1200x500 with 2 Axes>"
            ],
            "image/png": "[encoded data removed]"
          },
          "metadata": {}
        }
      ]
    },
    {
      "cell_type": "markdown",
      "source": [
        "Computing TPR for FPR=0.01 for RF and LGBM"
      ],
      "metadata": {
        "id": "RZkk5W2VjcTL"
      }
    },
    {
      "cell_type": "code",
      "source": [
        "import numpy as np\n",
        "\n",
        "target_fpr = 0.01\n",
        "\n",
        "# Random Forest\n",
        "rf_idx = np.argmin(np.abs(rf_fpr - target_fpr))\n",
        "rf_tpr_at_1 = rf_tpr[rf_idx]\n",
        "\n",
        "# LightGBM\n",
        "lgb_idx = np.argmin(np.abs(lgb_fpr - target_fpr))\n",
        "lgb_tpr_at_1 = lgb_tpr[lgb_idx]\n",
        "\n",
        "print(f\"Random Forest - TPR @ FPR=1%: {rf_tpr_at_1:.3f}\")\n",
        "print(f\"LightGBM      - TPR @ FPR=1%: {lgb_tpr_at_1:.3f}\")"
      ],
      "metadata": {
        "colab": {
          "base_uri": "https://localhost:8080/"
        },
        "id": "qpTbz00SGxOr",
        "outputId": "7e9eb70b-26f1-4d1e-b12f-699e603c9fb0"
      },
      "execution_count": null,
      "outputs": [
        {
          "output_type": "stream",
          "name": "stdout",
          "text": [
            "Random Forest - TPR @ FPR=1%: 0.914\n",
            "LightGBM      - TPR @ FPR=1%: 0.928\n"
          ]
        }
      ]
    }
  ],
  "metadata": {
    "colab": {
      "provenance": [],
      "gpuType": "T4"
    },
    "kernelspec": {
      "display_name": "Python 3",
      "name": "python3"
    },
    "language_info": {
      "name": "python"
    },
    "widgets": {
      "application/vnd.jupyter.widget-state+json": {
        "ad630ed9f7084a82aa3167c2fd00fb64": {
          "model_module": "@jupyter-widgets/controls",
          "model_name": "HBoxModel",
          "model_module_version": "1.5.0",
          "state": {
            "_dom_classes": [],
            "_model_module": "@jupyter-widgets/controls",
            "_model_module_version": "1.5.0",
            "_model_name": "HBoxModel",
            "_view_count": null,
            "_view_module": "@jupyter-widgets/controls",
            "_view_module_version": "1.5.0",
            "_view_name": "HBoxView",
            "box_style": "",
            "children": [
              "IPY_MODEL_bf205642148f4aa0b03dc56de697cd0d",
              "IPY_MODEL_0a9935c13efb4ad28beabcbb0c205763",
              "IPY_MODEL_8cfc13b055cc46c4bda6946c4286b1d5"
            ],
            "layout": "IPY_MODEL_93b8ce2572584accbed77888b5086a18"
          }
        },
        "bf205642148f4aa0b03dc56de697cd0d": {
          "model_module": "@jupyter-widgets/controls",
          "model_name": "HTMLModel",
          "model_module_version": "1.5.0",
          "state": {
            "_dom_classes": [],
            "_model_module": "@jupyter-widgets/controls",
            "_model_module_version": "1.5.0",
            "_model_name": "HTMLModel",
            "_view_count": null,
            "_view_module": "@jupyter-widgets/controls",
            "_view_module_version": "1.5.0",
            "_view_name": "HTMLView",
            "description": "",
            "description_tooltip": null,
            "layout": "IPY_MODEL_b38fee8aa8894925aa29bac1a2392ca3",
            "placeholder": "​",
            "style": "IPY_MODEL_27eb213041984f53af2c7ba2029daba3",
            "value": "PDF_train.zip: 100%"
          }
        },
        "0a9935c13efb4ad28beabcbb0c205763": {
          "model_module": "@jupyter-widgets/controls",
          "model_name": "FloatProgressModel",
          "model_module_version": "1.5.0",
          "state": {
            "_dom_classes": [],
            "_model_module": "@jupyter-widgets/controls",
            "_model_module_version": "1.5.0",
            "_model_name": "FloatProgressModel",
            "_view_count": null,
            "_view_module": "@jupyter-widgets/controls",
            "_view_module_version": "1.5.0",
            "_view_name": "ProgressView",
            "bar_style": "success",
            "description": "",
            "description_tooltip": null,
            "layout": "IPY_MODEL_83acd4903fc3436bb1d4669a4dd4e0f4",
            "max": 122602464,
            "min": 0,
            "orientation": "horizontal",
            "style": "IPY_MODEL_919b650667404484a4a0b7cd5ed92290",
            "value": 122602464
          }
        },
        "8cfc13b055cc46c4bda6946c4286b1d5": {
          "model_module": "@jupyter-widgets/controls",
          "model_name": "HTMLModel",
          "model_module_version": "1.5.0",
          "state": {
            "_dom_classes": [],
            "_model_module": "@jupyter-widgets/controls",
            "_model_module_version": "1.5.0",
            "_model_name": "HTMLModel",
            "_view_count": null,
            "_view_module": "@jupyter-widgets/controls",
            "_view_module_version": "1.5.0",
            "_view_name": "HTMLView",
            "description": "",
            "description_tooltip": null,
            "layout": "IPY_MODEL_3f87d88f190044958075e4c7d057c0ba",
            "placeholder": "​",
            "style": "IPY_MODEL_f6d2a07a8c45433cbc3e7dde10be4443",
            "value": " 123M/123M [00:00&lt;00:00, 259MB/s]"
          }
        },
        "93b8ce2572584accbed77888b5086a18": {
          "model_module": "@jupyter-widgets/base",
          "model_name": "LayoutModel",
          "model_module_version": "1.2.0",
          "state": {
            "_model_module": "@jupyter-widgets/base",
            "_model_module_version": "1.2.0",
            "_model_name": "LayoutModel",
            "_view_count": null,
            "_view_module": "@jupyter-widgets/base",
            "_view_module_version": "1.2.0",
            "_view_name": "LayoutView",
            "align_content": null,
            "align_items": null,
            "align_self": null,
            "border": null,
            "bottom": null,
            "display": null,
            "flex": null,
            "flex_flow": null,
            "grid_area": null,
            "grid_auto_columns": null,
            "grid_auto_flow": null,
            "grid_auto_rows": null,
            "grid_column": null,
            "grid_gap": null,
            "grid_row": null,
            "grid_template_areas": null,
            "grid_template_columns": null,
            "grid_template_rows": null,
            "height": null,
            "justify_content": null,
            "justify_items": null,
            "left": null,
            "margin": null,
            "max_height": null,
            "max_width": null,
            "min_height": null,
            "min_width": null,
            "object_fit": null,
            "object_position": null,
            "order": null,
            "overflow": null,
            "overflow_x": null,
            "overflow_y": null,
            "padding": null,
            "right": null,
            "top": null,
            "visibility": null,
            "width": null
          }
        },
        "b38fee8aa8894925aa29bac1a2392ca3": {
          "model_module": "@jupyter-widgets/base",
          "model_name": "LayoutModel",
          "model_module_version": "1.2.0",
          "state": {
            "_model_module": "@jupyter-widgets/base",
            "_model_module_version": "1.2.0",
            "_model_name": "LayoutModel",
            "_view_count": null,
            "_view_module": "@jupyter-widgets/base",
            "_view_module_version": "1.2.0",
            "_view_name": "LayoutView",
            "align_content": null,
            "align_items": null,
            "align_self": null,
            "border": null,
            "bottom": null,
            "display": null,
            "flex": null,
            "flex_flow": null,
            "grid_area": null,
            "grid_auto_columns": null,
            "grid_auto_flow": null,
            "grid_auto_rows": null,
            "grid_column": null,
            "grid_gap": null,
            "grid_row": null,
            "grid_template_areas": null,
            "grid_template_columns": null,
            "grid_template_rows": null,
            "height": null,
            "justify_content": null,
            "justify_items": null,
            "left": null,
            "margin": null,
            "max_height": null,
            "max_width": null,
            "min_height": null,
            "min_width": null,
            "object_fit": null,
            "object_position": null,
            "order": null,
            "overflow": null,
            "overflow_x": null,
            "overflow_y": null,
            "padding": null,
            "right": null,
            "top": null,
            "visibility": null,
            "width": null
          }
        },
        "27eb213041984f53af2c7ba2029daba3": {
          "model_module": "@jupyter-widgets/controls",
          "model_name": "DescriptionStyleModel",
          "model_module_version": "1.5.0",
          "state": {
            "_model_module": "@jupyter-widgets/controls",
            "_model_module_version": "1.5.0",
            "_model_name": "DescriptionStyleModel",
            "_view_count": null,
            "_view_module": "@jupyter-widgets/base",
            "_view_module_version": "1.2.0",
            "_view_name": "StyleView",
            "description_width": ""
          }
        },
        "83acd4903fc3436bb1d4669a4dd4e0f4": {
          "model_module": "@jupyter-widgets/base",
          "model_name": "LayoutModel",
          "model_module_version": "1.2.0",
          "state": {
            "_model_module": "@jupyter-widgets/base",
            "_model_module_version": "1.2.0",
            "_model_name": "LayoutModel",
            "_view_count": null,
            "_view_module": "@jupyter-widgets/base",
            "_view_module_version": "1.2.0",
            "_view_name": "LayoutView",
            "align_content": null,
            "align_items": null,
            "align_self": null,
            "border": null,
            "bottom": null,
            "display": null,
            "flex": null,
            "flex_flow": null,
            "grid_area": null,
            "grid_auto_columns": null,
            "grid_auto_flow": null,
            "grid_auto_rows": null,
            "grid_column": null,
            "grid_gap": null,
            "grid_row": null,
            "grid_template_areas": null,
            "grid_template_columns": null,
            "grid_template_rows": null,
            "height": null,
            "justify_content": null,
            "justify_items": null,
            "left": null,
            "margin": null,
            "max_height": null,
            "max_width": null,
            "min_height": null,
            "min_width": null,
            "object_fit": null,
            "object_position": null,
            "order": null,
            "overflow": null,
            "overflow_x": null,
            "overflow_y": null,
            "padding": null,
            "right": null,
            "top": null,
            "visibility": null,
            "width": null
          }
        },
        "919b650667404484a4a0b7cd5ed92290": {
          "model_module": "@jupyter-widgets/controls",
          "model_name": "ProgressStyleModel",
          "model_module_version": "1.5.0",
          "state": {
            "_model_module": "@jupyter-widgets/controls",
            "_model_module_version": "1.5.0",
            "_model_name": "ProgressStyleModel",
            "_view_count": null,
            "_view_module": "@jupyter-widgets/base",
            "_view_module_version": "1.2.0",
            "_view_name": "StyleView",
            "bar_color": null,
            "description_width": ""
          }
        },
        "3f87d88f190044958075e4c7d057c0ba": {
          "model_module": "@jupyter-widgets/base",
          "model_name": "LayoutModel",
          "model_module_version": "1.2.0",
          "state": {
            "_model_module": "@jupyter-widgets/base",
            "_model_module_version": "1.2.0",
            "_model_name": "LayoutModel",
            "_view_count": null,
            "_view_module": "@jupyter-widgets/base",
            "_view_module_version": "1.2.0",
            "_view_name": "LayoutView",
            "align_content": null,
            "align_items": null,
            "align_self": null,
            "border": null,
            "bottom": null,
            "display": null,
            "flex": null,
            "flex_flow": null,
            "grid_area": null,
            "grid_auto_columns": null,
            "grid_auto_flow": null,
            "grid_auto_rows": null,
            "grid_column": null,
            "grid_gap": null,
            "grid_row": null,
            "grid_template_areas": null,
            "grid_template_columns": null,
            "grid_template_rows": null,
            "height": null,
            "justify_content": null,
            "justify_items": null,
            "left": null,
            "margin": null,
            "max_height": null,
            "max_width": null,
            "min_height": null,
            "min_width": null,
            "object_fit": null,
            "object_position": null,
            "order": null,
            "overflow": null,
            "overflow_x": null,
            "overflow_y": null,
            "padding": null,
            "right": null,
            "top": null,
            "visibility": null,
            "width": null
          }
        },
        "f6d2a07a8c45433cbc3e7dde10be4443": {
          "model_module": "@jupyter-widgets/controls",
          "model_name": "DescriptionStyleModel",
          "model_module_version": "1.5.0",
          "state": {
            "_model_module": "@jupyter-widgets/controls",
            "_model_module_version": "1.5.0",
            "_model_name": "DescriptionStyleModel",
            "_view_count": null,
            "_view_module": "@jupyter-widgets/base",
            "_view_module_version": "1.2.0",
            "_view_name": "StyleView",
            "description_width": ""
          }
        },
        "4210aa9147ac4370bf1285cf20fde844": {
          "model_module": "@jupyter-widgets/controls",
          "model_name": "HBoxModel",
          "model_module_version": "1.5.0",
          "state": {
            "_dom_classes": [],
            "_model_module": "@jupyter-widgets/controls",
            "_model_module_version": "1.5.0",
            "_model_name": "HBoxModel",
            "_view_count": null,
            "_view_module": "@jupyter-widgets/controls",
            "_view_module_version": "1.5.0",
            "_view_name": "HBoxView",
            "box_style": "",
            "children": [
              "IPY_MODEL_ea08a43498eb478ca5a3f73648d4cab7",
              "IPY_MODEL_e9b6c4a917ce4360955ccf1a61aa8eca",
              "IPY_MODEL_24f6721915244fffb7845c3c34238826"
            ],
            "layout": "IPY_MODEL_f0e5349d3e354e51a13242462247765b"
          }
        },
        "ea08a43498eb478ca5a3f73648d4cab7": {
          "model_module": "@jupyter-widgets/controls",
          "model_name": "HTMLModel",
          "model_module_version": "1.5.0",
          "state": {
            "_dom_classes": [],
            "_model_module": "@jupyter-widgets/controls",
            "_model_module_version": "1.5.0",
            "_model_name": "HTMLModel",
            "_view_count": null,
            "_view_module": "@jupyter-widgets/controls",
            "_view_module_version": "1.5.0",
            "_view_name": "HTMLView",
            "description": "",
            "description_tooltip": null,
            "layout": "IPY_MODEL_43832b692cfc45b0889bb609d8c7db21",
            "placeholder": "​",
            "style": "IPY_MODEL_ebd0cac48af148ea9fd0c3a0a857e010",
            "value": "PDF_test.zip: 100%"
          }
        },
        "e9b6c4a917ce4360955ccf1a61aa8eca": {
          "model_module": "@jupyter-widgets/controls",
          "model_name": "FloatProgressModel",
          "model_module_version": "1.5.0",
          "state": {
            "_dom_classes": [],
            "_model_module": "@jupyter-widgets/controls",
            "_model_module_version": "1.5.0",
            "_model_name": "FloatProgressModel",
            "_view_count": null,
            "_view_module": "@jupyter-widgets/controls",
            "_view_module_version": "1.5.0",
            "_view_name": "ProgressView",
            "bar_style": "success",
            "description": "",
            "description_tooltip": null,
            "layout": "IPY_MODEL_8033015fc2c045dfb5ceb2e5f5fa3c64",
            "max": 28833740,
            "min": 0,
            "orientation": "horizontal",
            "style": "IPY_MODEL_245b3168d5834631aadd6a2eaaa5236d",
            "value": 28833740
          }
        },
        "24f6721915244fffb7845c3c34238826": {
          "model_module": "@jupyter-widgets/controls",
          "model_name": "HTMLModel",
          "model_module_version": "1.5.0",
          "state": {
            "_dom_classes": [],
            "_model_module": "@jupyter-widgets/controls",
            "_model_module_version": "1.5.0",
            "_model_name": "HTMLModel",
            "_view_count": null,
            "_view_module": "@jupyter-widgets/controls",
            "_view_module_version": "1.5.0",
            "_view_name": "HTMLView",
            "description": "",
            "description_tooltip": null,
            "layout": "IPY_MODEL_01a3416357e64ef691f23059e89f5504",
            "placeholder": "​",
            "style": "IPY_MODEL_65c3bfcc78b4414b9ce6d194e0aeca11",
            "value": " 28.8M/28.8M [00:00&lt;00:00, 252MB/s]"
          }
        },
        "f0e5349d3e354e51a13242462247765b": {
          "model_module": "@jupyter-widgets/base",
          "model_name": "LayoutModel",
          "model_module_version": "1.2.0",
          "state": {
            "_model_module": "@jupyter-widgets/base",
            "_model_module_version": "1.2.0",
            "_model_name": "LayoutModel",
            "_view_count": null,
            "_view_module": "@jupyter-widgets/base",
            "_view_module_version": "1.2.0",
            "_view_name": "LayoutView",
            "align_content": null,
            "align_items": null,
            "align_self": null,
            "border": null,
            "bottom": null,
            "display": null,
            "flex": null,
            "flex_flow": null,
            "grid_area": null,
            "grid_auto_columns": null,
            "grid_auto_flow": null,
            "grid_auto_rows": null,
            "grid_column": null,
            "grid_gap": null,
            "grid_row": null,
            "grid_template_areas": null,
            "grid_template_columns": null,
            "grid_template_rows": null,
            "height": null,
            "justify_content": null,
            "justify_items": null,
            "left": null,
            "margin": null,
            "max_height": null,
            "max_width": null,
            "min_height": null,
            "min_width": null,
            "object_fit": null,
            "object_position": null,
            "order": null,
            "overflow": null,
            "overflow_x": null,
            "overflow_y": null,
            "padding": null,
            "right": null,
            "top": null,
            "visibility": null,
            "width": null
          }
        },
        "43832b692cfc45b0889bb609d8c7db21": {
          "model_module": "@jupyter-widgets/base",
          "model_name": "LayoutModel",
          "model_module_version": "1.2.0",
          "state": {
            "_model_module": "@jupyter-widgets/base",
            "_model_module_version": "1.2.0",
            "_model_name": "LayoutModel",
            "_view_count": null,
            "_view_module": "@jupyter-widgets/base",
            "_view_module_version": "1.2.0",
            "_view_name": "LayoutView",
            "align_content": null,
            "align_items": null,
            "align_self": null,
            "border": null,
            "bottom": null,
            "display": null,
            "flex": null,
            "flex_flow": null,
            "grid_area": null,
            "grid_auto_columns": null,
            "grid_auto_flow": null,
            "grid_auto_rows": null,
            "grid_column": null,
            "grid_gap": null,
            "grid_row": null,
            "grid_template_areas": null,
            "grid_template_columns": null,
            "grid_template_rows": null,
            "height": null,
            "justify_content": null,
            "justify_items": null,
            "left": null,
            "margin": null,
            "max_height": null,
            "max_width": null,
            "min_height": null,
            "min_width": null,
            "object_fit": null,
            "object_position": null,
            "order": null,
            "overflow": null,
            "overflow_x": null,
            "overflow_y": null,
            "padding": null,
            "right": null,
            "top": null,
            "visibility": null,
            "width": null
          }
        },
        "ebd0cac48af148ea9fd0c3a0a857e010": {
          "model_module": "@jupyter-widgets/controls",
          "model_name": "DescriptionStyleModel",
          "model_module_version": "1.5.0",
          "state": {
            "_model_module": "@jupyter-widgets/controls",
            "_model_module_version": "1.5.0",
            "_model_name": "DescriptionStyleModel",
            "_view_count": null,
            "_view_module": "@jupyter-widgets/base",
            "_view_module_version": "1.2.0",
            "_view_name": "StyleView",
            "description_width": ""
          }
        },
        "8033015fc2c045dfb5ceb2e5f5fa3c64": {
          "model_module": "@jupyter-widgets/base",
          "model_name": "LayoutModel",
          "model_module_version": "1.2.0",
          "state": {
            "_model_module": "@jupyter-widgets/base",
            "_model_module_version": "1.2.0",
            "_model_name": "LayoutModel",
            "_view_count": null,
            "_view_module": "@jupyter-widgets/base",
            "_view_module_version": "1.2.0",
            "_view_name": "LayoutView",
            "align_content": null,
            "align_items": null,
            "align_self": null,
            "border": null,
            "bottom": null,
            "display": null,
            "flex": null,
            "flex_flow": null,
            "grid_area": null,
            "grid_auto_columns": null,
            "grid_auto_flow": null,
            "grid_auto_rows": null,
            "grid_column": null,
            "grid_gap": null,
            "grid_row": null,
            "grid_template_areas": null,
            "grid_template_columns": null,
            "grid_template_rows": null,
            "height": null,
            "justify_content": null,
            "justify_items": null,
            "left": null,
            "margin": null,
            "max_height": null,
            "max_width": null,
            "min_height": null,
            "min_width": null,
            "object_fit": null,
            "object_position": null,
            "order": null,
            "overflow": null,
            "overflow_x": null,
            "overflow_y": null,
            "padding": null,
            "right": null,
            "top": null,
            "visibility": null,
            "width": null
          }
        },
        "245b3168d5834631aadd6a2eaaa5236d": {
          "model_module": "@jupyter-widgets/controls",
          "model_name": "ProgressStyleModel",
          "model_module_version": "1.5.0",
          "state": {
            "_model_module": "@jupyter-widgets/controls",
            "_model_module_version": "1.5.0",
            "_model_name": "ProgressStyleModel",
            "_view_count": null,
            "_view_module": "@jupyter-widgets/base",
            "_view_module_version": "1.2.0",
            "_view_name": "StyleView",
            "bar_color": null,
            "description_width": ""
          }
        },
        "01a3416357e64ef691f23059e89f5504": {
          "model_module": "@jupyter-widgets/base",
          "model_name": "LayoutModel",
          "model_module_version": "1.2.0",
          "state": {
            "_model_module": "@jupyter-widgets/base",
            "_model_module_version": "1.2.0",
            "_model_name": "LayoutModel",
            "_view_count": null,
            "_view_module": "@jupyter-widgets/base",
            "_view_module_version": "1.2.0",
            "_view_name": "LayoutView",
            "align_content": null,
            "align_items": null,
            "align_self": null,
            "border": null,
            "bottom": null,
            "display": null,
            "flex": null,
            "flex_flow": null,
            "grid_area": null,
            "grid_auto_columns": null,
            "grid_auto_flow": null,
            "grid_auto_rows": null,
            "grid_column": null,
            "grid_gap": null,
            "grid_row": null,
            "grid_template_areas": null,
            "grid_template_columns": null,
            "grid_template_rows": null,
            "height": null,
            "justify_content": null,
            "justify_items": null,
            "left": null,
            "margin": null,
            "max_height": null,
            "max_width": null,
            "min_height": null,
            "min_width": null,
            "object_fit": null,
            "object_position": null,
            "order": null,
            "overflow": null,
            "overflow_x": null,
            "overflow_y": null,
            "padding": null,
            "right": null,
            "top": null,
            "visibility": null,
            "width": null
          }
        },
        "65c3bfcc78b4414b9ce6d194e0aeca11": {
          "model_module": "@jupyter-widgets/controls",
          "model_name": "DescriptionStyleModel",
          "model_module_version": "1.5.0",
          "state": {
            "_model_module": "@jupyter-widgets/controls",
            "_model_module_version": "1.5.0",
            "_model_name": "DescriptionStyleModel",
            "_view_count": null,
            "_view_module": "@jupyter-widgets/base",
            "_view_module_version": "1.2.0",
            "_view_name": "StyleView",
            "description_width": ""
          }
        },
        "e0cbb9dfaa224711aca2b861ea3aeb19": {
          "model_module": "@jupyter-widgets/controls",
          "model_name": "HBoxModel",
          "model_module_version": "1.5.0",
          "state": {
            "_dom_classes": [],
            "_model_module": "@jupyter-widgets/controls",
            "_model_module_version": "1.5.0",
            "_model_name": "HBoxModel",
            "_view_count": null,
            "_view_module": "@jupyter-widgets/controls",
            "_view_module_version": "1.5.0",
            "_view_name": "HBoxView",
            "box_style": "",
            "children": [
              "IPY_MODEL_8eeb3fbc40914e3d9755f18cd1054920",
              "IPY_MODEL_5c55a32b0463415a971f2dc61a29a1b7",
              "IPY_MODEL_6794bf24bfa44b008eef07c35f5938d1"
            ],
            "layout": "IPY_MODEL_f0cb4239c93b4616829d47591b3b9da2"
          }
        },
        "8eeb3fbc40914e3d9755f18cd1054920": {
          "model_module": "@jupyter-widgets/controls",
          "model_name": "HTMLModel",
          "model_module_version": "1.5.0",
          "state": {
            "_dom_classes": [],
            "_model_module": "@jupyter-widgets/controls",
            "_model_module_version": "1.5.0",
            "_model_name": "HTMLModel",
            "_view_count": null,
            "_view_module": "@jupyter-widgets/controls",
            "_view_module_version": "1.5.0",
            "_view_name": "HTMLView",
            "description": "",
            "description_tooltip": null,
            "layout": "IPY_MODEL_a9143be4e8484b4f91d3c394e82757e2",
            "placeholder": "​",
            "style": "IPY_MODEL_3da3e9a1eaa64506aa7930a9b1f78ac2",
            "value": "challenge.zip: 100%"
          }
        },
        "5c55a32b0463415a971f2dc61a29a1b7": {
          "model_module": "@jupyter-widgets/controls",
          "model_name": "FloatProgressModel",
          "model_module_version": "1.5.0",
          "state": {
            "_dom_classes": [],
            "_model_module": "@jupyter-widgets/controls",
            "_model_module_version": "1.5.0",
            "_model_name": "FloatProgressModel",
            "_view_count": null,
            "_view_module": "@jupyter-widgets/controls",
            "_view_module_version": "1.5.0",
            "_view_name": "ProgressView",
            "bar_style": "success",
            "description": "",
            "description_tooltip": null,
            "layout": "IPY_MODEL_61c02da0404c49edbf70697a08386535",
            "max": 32144161,
            "min": 0,
            "orientation": "horizontal",
            "style": "IPY_MODEL_29ae14550c694b70bbc686ae92d600ad",
            "value": 32144161
          }
        },
        "6794bf24bfa44b008eef07c35f5938d1": {
          "model_module": "@jupyter-widgets/controls",
          "model_name": "HTMLModel",
          "model_module_version": "1.5.0",
          "state": {
            "_dom_classes": [],
            "_model_module": "@jupyter-widgets/controls",
            "_model_module_version": "1.5.0",
            "_model_name": "HTMLModel",
            "_view_count": null,
            "_view_module": "@jupyter-widgets/controls",
            "_view_module_version": "1.5.0",
            "_view_name": "HTMLView",
            "description": "",
            "description_tooltip": null,
            "layout": "IPY_MODEL_3808895be89c4be69b9e3738522ffd57",
            "placeholder": "​",
            "style": "IPY_MODEL_583df3283a01484eb5f7f5f9bdd62853",
            "value": " 32.1M/32.1M [00:00&lt;00:00, 137MB/s]"
          }
        },
        "f0cb4239c93b4616829d47591b3b9da2": {
          "model_module": "@jupyter-widgets/base",
          "model_name": "LayoutModel",
          "model_module_version": "1.2.0",
          "state": {
            "_model_module": "@jupyter-widgets/base",
            "_model_module_version": "1.2.0",
            "_model_name": "LayoutModel",
            "_view_count": null,
            "_view_module": "@jupyter-widgets/base",
            "_view_module_version": "1.2.0",
            "_view_name": "LayoutView",
            "align_content": null,
            "align_items": null,
            "align_self": null,
            "border": null,
            "bottom": null,
            "display": null,
            "flex": null,
            "flex_flow": null,
            "grid_area": null,
            "grid_auto_columns": null,
            "grid_auto_flow": null,
            "grid_auto_rows": null,
            "grid_column": null,
            "grid_gap": null,
            "grid_row": null,
            "grid_template_areas": null,
            "grid_template_columns": null,
            "grid_template_rows": null,
            "height": null,
            "justify_content": null,
            "justify_items": null,
            "left": null,
            "margin": null,
            "max_height": null,
            "max_width": null,
            "min_height": null,
            "min_width": null,
            "object_fit": null,
            "object_position": null,
            "order": null,
            "overflow": null,
            "overflow_x": null,
            "overflow_y": null,
            "padding": null,
            "right": null,
            "top": null,
            "visibility": null,
            "width": null
          }
        },
        "a9143be4e8484b4f91d3c394e82757e2": {
          "model_module": "@jupyter-widgets/base",
          "model_name": "LayoutModel",
          "model_module_version": "1.2.0",
          "state": {
            "_model_module": "@jupyter-widgets/base",
            "_model_module_version": "1.2.0",
            "_model_name": "LayoutModel",
            "_view_count": null,
            "_view_module": "@jupyter-widgets/base",
            "_view_module_version": "1.2.0",
            "_view_name": "LayoutView",
            "align_content": null,
            "align_items": null,
            "align_self": null,
            "border": null,
            "bottom": null,
            "display": null,
            "flex": null,
            "flex_flow": null,
            "grid_area": null,
            "grid_auto_columns": null,
            "grid_auto_flow": null,
            "grid_auto_rows": null,
            "grid_column": null,
            "grid_gap": null,
            "grid_row": null,
            "grid_template_areas": null,
            "grid_template_columns": null,
            "grid_template_rows": null,
            "height": null,
            "justify_content": null,
            "justify_items": null,
            "left": null,
            "margin": null,
            "max_height": null,
            "max_width": null,
            "min_height": null,
            "min_width": null,
            "object_fit": null,
            "object_position": null,
            "order": null,
            "overflow": null,
            "overflow_x": null,
            "overflow_y": null,
            "padding": null,
            "right": null,
            "top": null,
            "visibility": null,
            "width": null
          }
        },
        "3da3e9a1eaa64506aa7930a9b1f78ac2": {
          "model_module": "@jupyter-widgets/controls",
          "model_name": "DescriptionStyleModel",
          "model_module_version": "1.5.0",
          "state": {
            "_model_module": "@jupyter-widgets/controls",
            "_model_module_version": "1.5.0",
            "_model_name": "DescriptionStyleModel",
            "_view_count": null,
            "_view_module": "@jupyter-widgets/base",
            "_view_module_version": "1.2.0",
            "_view_name": "StyleView",
            "description_width": ""
          }
        },
        "61c02da0404c49edbf70697a08386535": {
          "model_module": "@jupyter-widgets/base",
          "model_name": "LayoutModel",
          "model_module_version": "1.2.0",
          "state": {
            "_model_module": "@jupyter-widgets/base",
            "_model_module_version": "1.2.0",
            "_model_name": "LayoutModel",
            "_view_count": null,
            "_view_module": "@jupyter-widgets/base",
            "_view_module_version": "1.2.0",
            "_view_name": "LayoutView",
            "align_content": null,
            "align_items": null,
            "align_self": null,
            "border": null,
            "bottom": null,
            "display": null,
            "flex": null,
            "flex_flow": null,
            "grid_area": null,
            "grid_auto_columns": null,
            "grid_auto_flow": null,
            "grid_auto_rows": null,
            "grid_column": null,
            "grid_gap": null,
            "grid_row": null,
            "grid_template_areas": null,
            "grid_template_columns": null,
            "grid_template_rows": null,
            "height": null,
            "justify_content": null,
            "justify_items": null,
            "left": null,
            "margin": null,
            "max_height": null,
            "max_width": null,
            "min_height": null,
            "min_width": null,
            "object_fit": null,
            "object_position": null,
            "order": null,
            "overflow": null,
            "overflow_x": null,
            "overflow_y": null,
            "padding": null,
            "right": null,
            "top": null,
            "visibility": null,
            "width": null
          }
        },
        "29ae14550c694b70bbc686ae92d600ad": {
          "model_module": "@jupyter-widgets/controls",
          "model_name": "ProgressStyleModel",
          "model_module_version": "1.5.0",
          "state": {
            "_model_module": "@jupyter-widgets/controls",
            "_model_module_version": "1.5.0",
            "_model_name": "ProgressStyleModel",
            "_view_count": null,
            "_view_module": "@jupyter-widgets/base",
            "_view_module_version": "1.2.0",
            "_view_name": "StyleView",
            "bar_color": null,
            "description_width": ""
          }
        },
        "3808895be89c4be69b9e3738522ffd57": {
          "model_module": "@jupyter-widgets/base",
          "model_name": "LayoutModel",
          "model_module_version": "1.2.0",
          "state": {
            "_model_module": "@jupyter-widgets/base",
            "_model_module_version": "1.2.0",
            "_model_name": "LayoutModel",
            "_view_count": null,
            "_view_module": "@jupyter-widgets/base",
            "_view_module_version": "1.2.0",
            "_view_name": "LayoutView",
            "align_content": null,
            "align_items": null,
            "align_self": null,
            "border": null,
            "bottom": null,
            "display": null,
            "flex": null,
            "flex_flow": null,
            "grid_area": null,
            "grid_auto_columns": null,
            "grid_auto_flow": null,
            "grid_auto_rows": null,
            "grid_column": null,
            "grid_gap": null,
            "grid_row": null,
            "grid_template_areas": null,
            "grid_template_columns": null,
            "grid_template_rows": null,
            "height": null,
            "justify_content": null,
            "justify_items": null,
            "left": null,
            "margin": null,
            "max_height": null,
            "max_width": null,
            "min_height": null,
            "min_width": null,
            "object_fit": null,
            "object_position": null,
            "order": null,
            "overflow": null,
            "overflow_x": null,
            "overflow_y": null,
            "padding": null,
            "right": null,
            "top": null,
            "visibility": null,
            "width": null
          }
        },
        "583df3283a01484eb5f7f5f9bdd62853": {
          "model_module": "@jupyter-widgets/controls",
          "model_name": "DescriptionStyleModel",
          "model_module_version": "1.5.0",
          "state": {
            "_model_module": "@jupyter-widgets/controls",
            "_model_module_version": "1.5.0",
            "_model_name": "DescriptionStyleModel",
            "_view_count": null,
            "_view_module": "@jupyter-widgets/base",
            "_view_module_version": "1.2.0",
            "_view_name": "StyleView",
            "description_width": ""
          }
        }
      }
    }
  },
  "nbformat": 4,
  "nbformat_minor": 0
}